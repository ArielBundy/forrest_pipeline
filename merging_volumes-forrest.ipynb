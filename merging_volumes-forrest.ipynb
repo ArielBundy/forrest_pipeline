{
 "cells": [
  {
   "cell_type": "markdown",
   "id": "9820723b",
   "metadata": {},
   "source": [
    "# Forrest imaging data slice code"
   ]
  },
  {
   "cell_type": "code",
   "execution_count": 1,
   "id": "3e6c7797",
   "metadata": {},
   "outputs": [],
   "source": [
    "from nipype.caching import Memory\n",
    "from nipype.interfaces import fsl\n",
    "from os import listdir\n",
    "from os.path import isfile, join"
   ]
  },
  {
   "cell_type": "code",
   "execution_count": 15,
   "id": "f39be0af",
   "metadata": {},
   "outputs": [],
   "source": [
    "# define run directory (by sub), create a file list to be merged (8 segments of movie)\n",
    "run_dir = \"/media/anakin/Ariel/ds000113/sub-02/ses-movie/func\"\n",
    "files = [join(run_dir, f) for f in listdir(run_dir) if isfile(join(run_dir, f)) and f[-11:-7] == 'bold']\n",
    "files.sort()\n",
    "#files # uncomment to check file list to be merged"
   ]
  },
  {
   "cell_type": "code",
   "execution_count": 16,
   "id": "705f1ce3",
   "metadata": {
    "scrolled": true
   },
   "outputs": [
    {
     "name": "stdout",
     "output_type": "stream",
     "text": [
      "220313-10:52:07,745 nipype.workflow INFO:\n",
      "\t [Node] Setting-up \"403d2ce8588262539a6f85741e9ffa8e\" in \"/media/anakin/Ariel/ds000113/nipype_mem/nipype-interfaces-fsl-utils-Merge/403d2ce8588262539a6f85741e9ffa8e\".\n",
      "220313-10:52:07,759 nipype.workflow INFO:\n",
      "\t [Node] Executing \"403d2ce8588262539a6f85741e9ffa8e\" <nipype.interfaces.fsl.utils.Merge>\n",
      "220313-10:52:16,64 nipype.interface INFO:\n",
      "\t stderr 2022-03-13T10:52:16.064176:\n",
      "220313-10:52:16,71 nipype.interface INFO:\n",
      "\t stderr 2022-03-13T10:52:16.064176:WARNING:: Inconsistent orientations for individual images when attempting to merge.\n",
      "220313-10:52:16,73 nipype.interface INFO:\n",
      "\t stderr 2022-03-13T10:52:16.064176:          Merge will use voxel-based orientation which is probably incorrect - *PLEASE CHECK*!\n",
      "220313-10:52:16,74 nipype.interface INFO:\n",
      "\t stderr 2022-03-13T10:52:16.064176:\n",
      "220313-10:52:17,691 nipype.interface INFO:\n",
      "\t stderr 2022-03-13T10:52:17.691924:\n",
      "220313-10:52:17,692 nipype.interface INFO:\n",
      "\t stderr 2022-03-13T10:52:17.691924:WARNING:: Inconsistent orientations for individual images when attempting to merge.\n",
      "220313-10:52:17,695 nipype.interface INFO:\n",
      "\t stderr 2022-03-13T10:52:17.691924:          Merge will use voxel-based orientation which is probably incorrect - *PLEASE CHECK*!\n",
      "220313-10:52:17,698 nipype.interface INFO:\n",
      "\t stderr 2022-03-13T10:52:17.691924:\n",
      "220313-10:52:19,561 nipype.interface INFO:\n",
      "\t stderr 2022-03-13T10:52:19.560991:\n",
      "220313-10:52:19,561 nipype.interface INFO:\n",
      "\t stderr 2022-03-13T10:52:19.560991:WARNING:: Inconsistent orientations for individual images when attempting to merge.\n",
      "220313-10:52:19,562 nipype.interface INFO:\n",
      "\t stderr 2022-03-13T10:52:19.560991:          Merge will use voxel-based orientation which is probably incorrect - *PLEASE CHECK*!\n",
      "220313-10:52:19,567 nipype.interface INFO:\n",
      "\t stderr 2022-03-13T10:52:19.560991:\n",
      "220313-10:52:20,988 nipype.interface INFO:\n",
      "\t stderr 2022-03-13T10:52:20.988098:\n",
      "220313-10:52:20,988 nipype.interface INFO:\n",
      "\t stderr 2022-03-13T10:52:20.988098:WARNING:: Inconsistent orientations for individual images when attempting to merge.\n",
      "220313-10:52:20,993 nipype.interface INFO:\n",
      "\t stderr 2022-03-13T10:52:20.988098:          Merge will use voxel-based orientation which is probably incorrect - *PLEASE CHECK*!\n",
      "220313-10:52:20,994 nipype.interface INFO:\n",
      "\t stderr 2022-03-13T10:52:20.988098:\n",
      "220313-10:53:06,492 nipype.workflow INFO:\n",
      "\t [Node] Finished \"403d2ce8588262539a6f85741e9ffa8e\", elapsed time 58.731118s.\n"
     ]
    }
   ],
   "source": [
    "# merge all segments into 1 long time course\n",
    "mem = Memory(base_dir='.')\n",
    "fsl_merge = mem.cache(fsl.Merge)\n",
    "movie_merged = fsl_merge(dimension='t', in_files=files, tr = 2)"
   ]
  },
  {
   "cell_type": "code",
   "execution_count": 17,
   "id": "f7a3b08b",
   "metadata": {},
   "outputs": [
    {
     "data": {
      "text/plain": [
       "'/media/anakin/Ariel/ds000113/nipype_mem/nipype-interfaces-fsl-utils-Merge/403d2ce8588262539a6f85741e9ffa8e/sub-02_ses-movie_task-movie_run-1_bold_merged.nii.gz'"
      ]
     },
     "execution_count": 17,
     "metadata": {},
     "output_type": "execute_result"
    }
   ],
   "source": [
    "# use output file directory \n",
    "merged_filename = str(movie_merged.outputs)\n",
    "merged_filename = merged_filename[15:-1]\n",
    "merged_filename"
   ]
  },
  {
   "cell_type": "code",
   "execution_count": 18,
   "id": "044a95d0",
   "metadata": {},
   "outputs": [
    {
     "name": "stdout",
     "output_type": "stream",
     "text": [
      "220313-10:53:20,243 nipype.workflow INFO:\n",
      "\t [Node] Setting-up \"519813f2f576f4c6bef8b8dc0308b108\" in \"/media/anakin/Ariel/ds000113/nipype_mem/nipype-interfaces-fsl-utils-Split/519813f2f576f4c6bef8b8dc0308b108\".\n",
      "220313-10:53:20,249 nipype.workflow INFO:\n",
      "\t [Node] Executing \"519813f2f576f4c6bef8b8dc0308b108\" <nipype.interfaces.fsl.utils.Split>\n",
      "220313-10:54:23,928 nipype.workflow INFO:\n",
      "\t [Node] Finished \"519813f2f576f4c6bef8b8dc0308b108\", elapsed time 63.677291s.\n"
     ]
    }
   ],
   "source": [
    "# Splitting merged_runs to single volumes\n",
    "fsl_split = mem.cache(fsl.Split)\n",
    "split = fsl_split(dimension='t', in_file=merged_filename)"
   ]
  },
  {
   "cell_type": "code",
   "execution_count": 19,
   "id": "6300eb80",
   "metadata": {},
   "outputs": [
    {
     "data": {
      "text/plain": [
       "3599"
      ]
     },
     "execution_count": 19,
     "metadata": {},
     "output_type": "execute_result"
    }
   ],
   "source": [
    "# use output file directory and create a list of single volumes\n",
    "\n",
    "split_name = str(split.outputs)\n",
    "split_dir = split_name[15:122] #cange according to split_name\n",
    "\n",
    "vol_list = [f for f in listdir(split_dir) if f[:3] =='vol']\n",
    "\n",
    "# Sanity Check - length of all data\n",
    "len(vol_list)"
   ]
  },
  {
   "cell_type": "code",
   "execution_count": 20,
   "id": "9a7b45c4",
   "metadata": {},
   "outputs": [
    {
     "name": "stdout",
     "output_type": "stream",
     "text": [
      "220313-10:55:19,268 nipype.workflow INFO:\n",
      "\t [Node] Setting-up \"3384bae20bd9a525f4103b5e54a1b4ad\" in \"/media/anakin/Ariel/ds000113/nipype_mem/nipype-interfaces-fsl-utils-Merge/3384bae20bd9a525f4103b5e54a1b4ad\".\n",
      "220313-10:55:19,399 nipype.workflow INFO:\n",
      "\t [Node] Executing \"3384bae20bd9a525f4103b5e54a1b4ad\" <nipype.interfaces.fsl.utils.Merge>\n",
      "220313-10:55:22,289 nipype.workflow INFO:\n",
      "\t [Node] Finished \"3384bae20bd9a525f4103b5e54a1b4ad\", elapsed time 2.887917s.\n"
     ]
    }
   ],
   "source": [
    "# in order to create a 360 TR run, one must define ranges for runs\n",
    "# make sure the conditions in list comprehension is accord with directories!\n",
    "\n",
    "files = [join(split_dir, f) for f in listdir(split_dir) if isfile(join(split_dir, f)) and f[-14:-11] == 'vol']\n",
    "run_merged = fsl_merge(dimension='t', in_files=files[3224:3404])"
   ]
  },
  {
   "cell_type": "code",
   "execution_count": 16,
   "id": "75017602",
   "metadata": {},
   "outputs": [],
   "source": [
    "run_merged?"
   ]
  }
 ],
 "metadata": {
  "kernelspec": {
   "display_name": "Python 3 (ipykernel)",
   "language": "python",
   "name": "python3"
  },
  "language_info": {
   "codemirror_mode": {
    "name": "ipython",
    "version": 3
   },
   "file_extension": ".py",
   "mimetype": "text/x-python",
   "name": "python",
   "nbconvert_exporter": "python",
   "pygments_lexer": "ipython3",
   "version": "3.9.5"
  }
 },
 "nbformat": 4,
 "nbformat_minor": 5
}
